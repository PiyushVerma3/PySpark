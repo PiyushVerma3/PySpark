{
 "cells": [
  {
   "cell_type": "markdown",
   "id": "98f5d4ac",
   "metadata": {},
   "source": [
    "# **Sparked_Internship_Assignment**"
   ]
  },
  {
   "cell_type": "markdown",
   "id": "84d62d15",
   "metadata": {},
   "source": [
    "### I just want to mention few things \n",
    "- I have increased loyalty_score by 1, everytime a purchase is made.\n",
    "- I can change it to some formula if you want me to do so.\n",
    "- I have put (***) sign before whenever i have used show to see a new dataframe and i have commented the show function so if you want to see the dataframe just uncomment it.I thought during some point of time you want to see what the dataframe contains instead of typing show you can just uncomment it.\n",
    "- I have put all the three files in the same folder, if you want me to put it somewhere else and then generating the datefarm from it, I can do that. \n",
    "- I have not written the dataframe out to a csv file as I was not clear whether I should do it or not, if you want me to write it, I can do that\n",
    "\n",
    "\n",
    "\n"
   ]
  },
  {
   "cell_type": "code",
   "execution_count": 1,
   "id": "0f626eab",
   "metadata": {},
   "outputs": [],
   "source": [
    "## importing modules\n",
    "\n",
    "\n",
    "import findspark\n",
    "from pyspark import SparkContext\n",
    "from pyspark.sql import SparkSession, Window, Row\n",
    "from pyspark.sql.functions import *\n",
    "from pyspark.sql.types import *\n",
    "import matplotlib.pyplot as plt\n",
    "import ipytest\n",
    "ipytest.autoconfig()"
   ]
  },
  {
   "cell_type": "code",
   "execution_count": 2,
   "id": "26469672",
   "metadata": {},
   "outputs": [],
   "source": [
    "## entering into Apache Spark Ecosystem\n",
    "\n",
    "spark = SparkSession.builder.appName(\"firstSpark\").getOrCreate()\n"
   ]
  },
  {
   "cell_type": "code",
   "execution_count": 3,
   "id": "86d56b62",
   "metadata": {},
   "outputs": [],
   "source": [
    "## function to create a dataframe\n",
    "def load_dataframe(filename, format):\n",
    "    if format == 'csv':\n",
    "        df = spark.read.format('csv').options(header='true').load(filename)\n",
    "        return df\n",
    "    if format == 'json':\n",
    "        df = spark.read.option('multiline',True).json('transactions.json')\n",
    "        return df\n",
    "\n",
    "\n",
    "### dateframe of all the three files \n",
    "df_customers = load_dataframe('customers.csv','csv')\n",
    "df_products = load_dataframe('products.csv','csv')\n",
    "df_transactions = load_dataframe('transactions.json','json')\n"
   ]
  },
  {
   "cell_type": "code",
   "execution_count": 4,
   "id": "2313fb9e",
   "metadata": {},
   "outputs": [],
   "source": [
    "## renaming some columns\n",
    "df_customers= df_customers.withColumnRenamed('customer_id','customer_id_customer')\n",
    "df_products = df_products.withColumnRenamed('product_id','product_id_product')"
   ]
  },
  {
   "cell_type": "markdown",
   "id": "ee8bbe95",
   "metadata": {},
   "source": [
    "#### ***"
   ]
  },
  {
   "cell_type": "code",
   "execution_count": 5,
   "id": "200ff43a",
   "metadata": {},
   "outputs": [],
   "source": [
    "# df_customers.show()\n",
    "# df_products.show()\n"
   ]
  },
  {
   "cell_type": "code",
   "execution_count": 6,
   "id": "11783e34",
   "metadata": {},
   "outputs": [],
   "source": [
    "### joining transaction dataframe and customers dataframe and storing it as a new dataframe  \n",
    "\n",
    "df_new1 = df_transactions.join(df_customers,df_transactions.customer_id == df_customers.customer_id_customer).select(['customer_id','loyalty_score','basket','date_of_purchase'])"
   ]
  },
  {
   "cell_type": "markdown",
   "id": "30b64fb1",
   "metadata": {},
   "source": [
    "#### ***"
   ]
  },
  {
   "cell_type": "code",
   "execution_count": 7,
   "id": "f61a9adc",
   "metadata": {},
   "outputs": [],
   "source": [
    "# df_new1.show()"
   ]
  },
  {
   "cell_type": "code",
   "execution_count": 8,
   "id": "4d25ddb4",
   "metadata": {},
   "outputs": [],
   "source": [
    "### ordering the new dateframe by time of purchase\n",
    "\n",
    "df_new1 = df_new1.orderBy(col('date_of_purchase').desc())"
   ]
  },
  {
   "cell_type": "code",
   "execution_count": 9,
   "id": "104f6622",
   "metadata": {},
   "outputs": [],
   "source": [
    "### calculating the size of basket in transaction.json file\n",
    "\n",
    "df_new1 = df_new1.withColumn('basket_size',size(col('basket')))"
   ]
  },
  {
   "cell_type": "code",
   "execution_count": 10,
   "id": "7f013ede",
   "metadata": {},
   "outputs": [],
   "source": [
    "### updating the loyalty increasing it by 1 when a purchase is made\n",
    "\n",
    "df_new1 = df_new1.withColumn('loyalty_score',col('loyalty_score')+col('basket_size'))"
   ]
  },
  {
   "cell_type": "markdown",
   "id": "c6fcb016",
   "metadata": {},
   "source": [
    "#### ***"
   ]
  },
  {
   "cell_type": "code",
   "execution_count": 11,
   "id": "d5b14374",
   "metadata": {},
   "outputs": [],
   "source": [
    "# df_new1.show()"
   ]
  },
  {
   "cell_type": "code",
   "execution_count": 12,
   "id": "d3113ef9",
   "metadata": {},
   "outputs": [],
   "source": [
    "### exploding the basket map using the explode fucntion provided in pyspark library\n",
    "\n",
    "df_new1 = df_new1.select(df_new1.customer_id,df_new1.loyalty_score,explode(df_new1.basket),df_new1.date_of_purchase)"
   ]
  },
  {
   "cell_type": "markdown",
   "id": "29e278f5",
   "metadata": {},
   "source": [
    "#### ***"
   ]
  },
  {
   "cell_type": "code",
   "execution_count": 13,
   "id": "aaa601a8",
   "metadata": {},
   "outputs": [],
   "source": [
    "# df_new1.show()"
   ]
  },
  {
   "cell_type": "code",
   "execution_count": 14,
   "id": "a2f49788",
   "metadata": {},
   "outputs": [],
   "source": [
    "### extracting the product_id with the help of getItem\n",
    "\n",
    "df_new1 = df_new1.withColumn('product_id',df_new1['col'].getItem('product_id'))"
   ]
  },
  {
   "cell_type": "code",
   "execution_count": 15,
   "id": "7ba8b6b4",
   "metadata": {},
   "outputs": [],
   "source": [
    "### Dropping the column 'col'\n",
    "df_new1 = df_new1.drop('col')"
   ]
  },
  {
   "cell_type": "markdown",
   "id": "5e5f5c51",
   "metadata": {},
   "source": [
    "#### ***"
   ]
  },
  {
   "cell_type": "code",
   "execution_count": 16,
   "id": "f88cabdc",
   "metadata": {},
   "outputs": [],
   "source": [
    "# df_new1.show()"
   ]
  },
  {
   "cell_type": "code",
   "execution_count": 17,
   "id": "c31b82fb",
   "metadata": {},
   "outputs": [],
   "source": [
    "### joining the products dataframe with df_new1 dataframe\n",
    "\n",
    "df_new2 = df_new1.join(df_products,df_new1.product_id == df_products.product_id_product).select(['customer_id','loyalty_score','date_of_purchase','product_id','product_category'])"
   ]
  },
  {
   "cell_type": "markdown",
   "id": "3ac80eec",
   "metadata": {},
   "source": [
    "#### ***"
   ]
  },
  {
   "cell_type": "code",
   "execution_count": 18,
   "id": "775dfd5b",
   "metadata": {},
   "outputs": [],
   "source": [
    "## df_new2.show()"
   ]
  },
  {
   "cell_type": "code",
   "execution_count": 19,
   "id": "97a8181b",
   "metadata": {},
   "outputs": [],
   "source": [
    "### counting the number of distinct products bought\n",
    "\n",
    "df_new3 = df_new2.groupBy('product_id').count()"
   ]
  },
  {
   "cell_type": "markdown",
   "id": "919a9d66",
   "metadata": {},
   "source": [
    "#### ***"
   ]
  },
  {
   "cell_type": "code",
   "execution_count": 20,
   "id": "19b82b1e",
   "metadata": {},
   "outputs": [],
   "source": [
    "## df_new3.show()"
   ]
  },
  {
   "cell_type": "code",
   "execution_count": 21,
   "id": "fe4c1a4a",
   "metadata": {},
   "outputs": [],
   "source": [
    "### renaming columns product_id and count in df_new3\n",
    "\n",
    "df_new3 = df_new3.withColumnRenamed('product_id','product_id_count')\n",
    "df_new3 = df_new3.withColumnRenamed('count','count_of_id')"
   ]
  },
  {
   "cell_type": "markdown",
   "id": "4a4717c5",
   "metadata": {},
   "source": [
    "#### ***"
   ]
  },
  {
   "cell_type": "code",
   "execution_count": 22,
   "id": "e974a861",
   "metadata": {},
   "outputs": [],
   "source": [
    "## df_new3.show()"
   ]
  },
  {
   "cell_type": "code",
   "execution_count": 23,
   "id": "a160b146",
   "metadata": {},
   "outputs": [],
   "source": [
    "### joining the dataframe which contains the purchase count with the one which contains updated loyalty\n",
    "\n",
    "df_final = df_new2.join(df_new3,df_new2.product_id == df_new3.product_id_count).select(['customer_id','loyalty_score','date_of_purchase','product_id','product_category','count_of_id'])"
   ]
  },
  {
   "cell_type": "markdown",
   "id": "7a49163a",
   "metadata": {},
   "source": [
    "#### ***"
   ]
  },
  {
   "cell_type": "code",
   "execution_count": 24,
   "id": "7cf13129",
   "metadata": {},
   "outputs": [],
   "source": [
    "## df_final.show()"
   ]
  },
  {
   "cell_type": "code",
   "execution_count": 25,
   "id": "758f04ba",
   "metadata": {},
   "outputs": [],
   "source": [
    "### ordering the dataframe by time of purchase\n",
    "\n",
    "df_final = df_final.orderBy(col('date_of_purchase').desc())"
   ]
  },
  {
   "cell_type": "markdown",
   "id": "5ec6dee3",
   "metadata": {},
   "source": [
    "#### ***"
   ]
  },
  {
   "cell_type": "code",
   "execution_count": 26,
   "id": "1b637bb6",
   "metadata": {},
   "outputs": [],
   "source": [
    "### df_final.show()"
   ]
  },
  {
   "cell_type": "code",
   "execution_count": 27,
   "id": "aa4c0420",
   "metadata": {},
   "outputs": [],
   "source": [
    "### renaming the column count_of_id to purchase_count_per_product_id\n",
    "\n",
    "df_final = df_final.withColumnRenamed('count_of_id','purchase_count_per_product_id')"
   ]
  },
  {
   "cell_type": "markdown",
   "id": "4907b240",
   "metadata": {},
   "source": [
    "#### ***"
   ]
  },
  {
   "cell_type": "code",
   "execution_count": 28,
   "id": "e5d163a3",
   "metadata": {},
   "outputs": [],
   "source": [
    "### df_final.show()"
   ]
  },
  {
   "cell_type": "markdown",
   "id": "d447950b",
   "metadata": {},
   "source": [
    "**The reason I have used distinct fucntion here is, when there are two of same products in a customer's basket, it results into a duplicate dataframe row so to counter it, I have used distinct**"
   ]
  },
  {
   "cell_type": "code",
   "execution_count": 29,
   "id": "8b688b12",
   "metadata": {},
   "outputs": [],
   "source": [
    "### removing duplicate rows which happens when a customer buys more than 1 of some product\n",
    "\n",
    "df_final_distinct = df_final.distinct()"
   ]
  },
  {
   "cell_type": "markdown",
   "id": "067e55d4",
   "metadata": {},
   "source": [
    "#### ***"
   ]
  },
  {
   "cell_type": "code",
   "execution_count": 30,
   "id": "19ad1bf5",
   "metadata": {},
   "outputs": [],
   "source": [
    "\n",
    "### df_final_distinct.show()"
   ]
  },
  {
   "cell_type": "code",
   "execution_count": 31,
   "id": "97c51f77",
   "metadata": {},
   "outputs": [],
   "source": [
    "### ordering the dataframe by date of purchase\n",
    "\n",
    "df_final_distinct = df_final_distinct.orderBy(col('date_of_purchase').asc())"
   ]
  },
  {
   "cell_type": "markdown",
   "id": "ff8d64f4",
   "metadata": {},
   "source": [
    "#### ***"
   ]
  },
  {
   "cell_type": "code",
   "execution_count": 32,
   "id": "8b31252f",
   "metadata": {},
   "outputs": [],
   "source": [
    "### df_final_distinct.show()"
   ]
  },
  {
   "cell_type": "code",
   "execution_count": 33,
   "id": "f444823b",
   "metadata": {},
   "outputs": [],
   "source": [
    "### dropping the date_of_purchase column as it is not asked in the challenge\n",
    "\n",
    "df_final_distinct = df_final_distinct.drop('date_of_purchase')"
   ]
  },
  {
   "cell_type": "code",
   "execution_count": 34,
   "id": "c82dcf71",
   "metadata": {},
   "outputs": [
    {
     "name": "stdout",
     "output_type": "stream",
     "text": [
      "+-----------+-------------+----------+----------------+-----------------------------+\n",
      "|customer_id|loyalty_score|product_id|product_category|purchase_count_per_product_id|\n",
      "+-----------+-------------+----------+----------------+-----------------------------+\n",
      "|         C1|         13.0|        P1|               1|                            8|\n",
      "|         C1|         13.0|        P3|               3|                            1|\n",
      "|         C2|        234.0|        P1|               1|                            8|\n",
      "|         C2|        234.0|        P2|               2|                            6|\n",
      "|         C3|         25.0|        P1|               1|                            8|\n",
      "|         C3|         25.0|        P2|               2|                            6|\n",
      "|         C4|         16.0|        P1|               1|                            8|\n",
      "|         C4|         16.0|        P2|               2|                            6|\n",
      "|         C5|         54.0|        P1|               1|                            8|\n",
      "|         C5|         54.0|        P2|               2|                            6|\n",
      "|         C6|         55.0|        P1|               1|                            8|\n",
      "|         C6|         55.0|        P2|               2|                            6|\n",
      "|         C7|        325.0|        P1|               1|                            8|\n",
      "|         C7|        325.0|        P2|               2|                            6|\n",
      "+-----------+-------------+----------+----------------+-----------------------------+\n",
      "\n"
     ]
    }
   ],
   "source": [
    "### displaying the final output\n",
    "\n",
    "df_final_distinct.show()"
   ]
  },
  {
   "cell_type": "markdown",
   "id": "cbe75ffa",
   "metadata": {},
   "source": [
    "**TEST CASES**"
   ]
  },
  {
   "cell_type": "code",
   "execution_count": 40,
   "id": "e078f0ac",
   "metadata": {},
   "outputs": [
    {
     "name": "stdout",
     "output_type": "stream",
     "text": [
      "\u001b[32m.\u001b[0m\u001b[32m.\u001b[0m\u001b[32m.\u001b[0m\u001b[32m.\u001b[0m\u001b[32m.\u001b[0m\u001b[32m.\u001b[0m\u001b[32m.\u001b[0m\u001b[32m.\u001b[0m\u001b[32m                                                                                     [100%]\u001b[0m\n",
      "\u001b[32m\u001b[32m\u001b[1m8 passed\u001b[0m\u001b[32m in 0.98s\u001b[0m\u001b[0m\n"
     ]
    }
   ],
   "source": [
    "%%ipytest\n",
    "\n",
    "## checking the customers dataframe\n",
    "def test_customers_1():\n",
    "    row =  df_customers.count() \n",
    "    assert row == 7\n",
    "def test_customers_2():\n",
    "    col = len(df_customers.dtypes)\n",
    "    assert col == 2\n",
    " ## checking for null values in customers dataframe   \n",
    "def test_customers_null():\n",
    "    assert df_customers.filter(df_customers.customer_id_customer.isNull() | df_customers.loyalty_score.isNull()).count() == 0    \n",
    "    \n",
    "    \n",
    "## checking the products dataframe \n",
    "def test_products_1():\n",
    "    row =  df_products.count() \n",
    "    assert row == 3\n",
    "def test_products_2():\n",
    "    col = len(df_products.dtypes)\n",
    "    assert col == 3\n",
    " ## checking for null values in products_dataframe   \n",
    "def test_products_null():\n",
    "    assert df_products.filter(df_products.product_id_product.isNull() | df_products.product_description.isNull() | df_products.product_category.isNull()).count() == 0 \n",
    " \n",
    " ## checking the final dataframe \n",
    "def test_final_distinct_1():    \n",
    "    assert len(df_final_distinct.dtypes) == 5\n",
    " ## checking for null values in final_dataframe   \n",
    "def test_final_distinct_null():\n",
    "    assert df_final_distinct.filter(df_final_distinct.customer_id.isNull() | df_final_distinct.loyalty_score.isNull() | df_final_distinct.product_category.isNull() | df_final_distinct.product_id.isNull() | df_final_distinct.purchase_count_per_product_id.isNull()).count() == 0 \n",
    " \n"
   ]
  },
  {
   "cell_type": "code",
   "execution_count": null,
   "id": "1725eded",
   "metadata": {},
   "outputs": [],
   "source": []
  },
  {
   "cell_type": "code",
   "execution_count": null,
   "id": "f3d9e6f3",
   "metadata": {},
   "outputs": [],
   "source": []
  }
 ],
 "metadata": {
  "kernelspec": {
   "display_name": "Python 3 (ipykernel)",
   "language": "python",
   "name": "python3"
  },
  "language_info": {
   "codemirror_mode": {
    "name": "ipython",
    "version": 3
   },
   "file_extension": ".py",
   "mimetype": "text/x-python",
   "name": "python",
   "nbconvert_exporter": "python",
   "pygments_lexer": "ipython3",
   "version": "3.9.7"
  }
 },
 "nbformat": 4,
 "nbformat_minor": 5
}
